{
 "cells": [
  {
   "cell_type": "code",
   "execution_count": 1,
   "metadata": {
    "collapsed": true
   },
   "outputs": [],
   "source": [
    "import requests\n",
    "from bs4 import BeautifulSoup\n",
    "from selenium import webdriver\n",
    "from time import sleep"
   ]
  },
  {
   "cell_type": "code",
   "execution_count": 2,
   "metadata": {
    "collapsed": true
   },
   "outputs": [],
   "source": [
    "def web_spider_out(max_page):\n",
    "    '''\n",
    "    crawler for Open API list of data.go.kr\n",
    "    :param max_page:\n",
    "    :return: title, view, government, category\n",
    "    '''\n",
    "\n",
    "    driver = webdriver.Chrome('/Users/Chris/Downloads/chromedriver')\n",
    "    page = 1\n",
    "    url = 'https://www.data.go.kr/search/index.do'\n",
    "    driver.get(url)\n",
    "\n",
    "    titles_data = []\n",
    "    gov_data = []\n",
    "    category_data = []\n",
    "\n",
    "    driver.find_element_by_xpath('//*[@id=\"openapiTab\"]/a/span').click()\n",
    "\n",
    "    while page < max_page:\n",
    "\n",
    "        sleep(3)\n",
    "\n",
    "        html = driver.page_source\n",
    "        soup = BeautifulSoup(html, 'html.parser')\n",
    "\n",
    "        titles = soup.findAll('div', attrs={'class': 'data-title'})\n",
    "        gov = soup.findAll('div', attrs={'class': 'data-meta'})\n",
    "        cat = soup.find_all('span', attrs={'class': 'category-filter visible-desktop'}, string=True)\n",
    "\n",
    "        tempTitle = [elem.text.strip() for elem in titles]\n",
    "        tempGov = [elem.text.strip() for elem in gov]\n",
    "        tempCat = [elem.text.strip() for elem in cat]\n",
    "\n",
    "        titles_data.append(tempTitle)\n",
    "        gov_data.append(tempGov)\n",
    "        category_data.append(tempCat)\n",
    "\n",
    "        # move to next page\n",
    "        page += 1\n",
    "        sleep(7)\n",
    "\n",
    "    return [titles_data, gov_data, category_data]"
   ]
  },
  {
   "cell_type": "code",
   "execution_count": 4,
   "metadata": {},
   "outputs": [
    {
     "data": {
      "text/plain": [
       "[[['도로명주소조회서비스\\n                                                    \\n조회수 : 29,883\\n활용신청건수 : 2,378\\n\\n                                                        \\n                                                            \\n                                                            \\n                                                                교통물류',\n",
       "   '동네예보정보조회서비스\\n                                                    \\n조회수 : 17,862\\n활용신청건수 : 7,657\\n\\n                                                        \\n                                                            \\n                                                            \\n                                                                과학기술',\n",
       "   '상가(상권)정보\\n                                                    \\n조회수 : 8,828\\n활용신청건수 : 721\\n\\n                                                        \\n                                                            \\n                                                                중점데이터',\n",
       "   '국내 관광정보 서비스\\n                                                    \\n조회수 : 7,487\\n활용신청건수 : 9,132\\n\\n                                                        \\n                                                            \\n                                                            \\n                                                                문화관광',\n",
       "   '승하차인원 통계\\n                                                    \\n조회수 : 6,786\\n바로가기 횟수 : 1,886\\n\\n                                                        \\n                                                            \\n                                                            \\n                                                                교통물류',\n",
       "   '지번주소조회 서비스\\n                                                    \\n조회수 : 6,484\\n활용신청건수 : 895\\n\\n                                                        \\n                                                            \\n                                                            \\n                                                                교통물류',\n",
       "   '국토교통부_버스위치정보\\n                                                    \\n조회수 : 5,278\\n활용신청건수 : 2,613\\n\\n                                                        \\n                                                            \\n                                                            \\n                                                                교통물류',\n",
       "   '한국환경공단_대기오염정보 조회 서비스\\n                                                    \\n조회수 : 5,126\\n활용신청건수 : 7,137\\n\\n                                                        \\n                                                            \\n                                                            \\n                                                                환경기상',\n",
       "   '중기예보정보조회서비스\\n                                                    \\n조회수 : 4,353\\n활용신청건수 : 1,062\\n\\n                                                        \\n                                                            \\n                                                                중점데이터',\n",
       "   '수산물 수출입정보\\n                                                    \\n조회수 : 4,349\\n활용신청건수 : 143\\n\\n                                                        \\n                                                            \\n                                                                중점데이터'],\n",
       "  ['도로명주소조회서비스\\n                                                    \\n조회수 : 29,883\\n활용신청건수 : 2,378\\n\\n                                                        \\n                                                            \\n                                                            \\n                                                                교통물류',\n",
       "   '동네예보정보조회서비스\\n                                                    \\n조회수 : 17,862\\n활용신청건수 : 7,657\\n\\n                                                        \\n                                                            \\n                                                            \\n                                                                과학기술',\n",
       "   '상가(상권)정보\\n                                                    \\n조회수 : 8,828\\n활용신청건수 : 721\\n\\n                                                        \\n                                                            \\n                                                                중점데이터',\n",
       "   '국내 관광정보 서비스\\n                                                    \\n조회수 : 7,487\\n활용신청건수 : 9,132\\n\\n                                                        \\n                                                            \\n                                                            \\n                                                                문화관광',\n",
       "   '승하차인원 통계\\n                                                    \\n조회수 : 6,786\\n바로가기 횟수 : 1,886\\n\\n                                                        \\n                                                            \\n                                                            \\n                                                                교통물류',\n",
       "   '지번주소조회 서비스\\n                                                    \\n조회수 : 6,484\\n활용신청건수 : 895\\n\\n                                                        \\n                                                            \\n                                                            \\n                                                                교통물류',\n",
       "   '국토교통부_버스위치정보\\n                                                    \\n조회수 : 5,278\\n활용신청건수 : 2,613\\n\\n                                                        \\n                                                            \\n                                                            \\n                                                                교통물류',\n",
       "   '한국환경공단_대기오염정보 조회 서비스\\n                                                    \\n조회수 : 5,126\\n활용신청건수 : 7,137\\n\\n                                                        \\n                                                            \\n                                                            \\n                                                                환경기상',\n",
       "   '중기예보정보조회서비스\\n                                                    \\n조회수 : 4,353\\n활용신청건수 : 1,062\\n\\n                                                        \\n                                                            \\n                                                                중점데이터',\n",
       "   '수산물 수출입정보\\n                                                    \\n조회수 : 4,349\\n활용신청건수 : 143\\n\\n                                                        \\n                                                            \\n                                                                중점데이터']],\n",
       " [['수정일 : 2016.06.29기관 : 과학기술정보통신부 우정사업본부\\n\\n서비스유형 : REST',\n",
       "   '수정일 : 2018.01.25기관 : 기상청\\n\\n서비스유형 : REST',\n",
       "   '수정일 : 2017.10.17기관 : 소상공인시장진흥공단\\n\\n서비스유형 : REST',\n",
       "   '수정일 : 2017.09.28기관 : 한국관광공사\\n\\n서비스유형 : REST',\n",
       "   '수정일 : 2018.01.08기관 : 서울교통공사\\n\\n서비스유형 : LINK',\n",
       "   '수정일 : 2017.10.31기관 : 과학기술정보통신부 우정사업본부\\n\\n서비스유형 : REST',\n",
       "   '수정일 : 2018.01.16기관 : 국토교통부\\n\\n서비스유형 : REST',\n",
       "   '수정일 : 2018.01.16기관 : 한국환경공단\\n\\n서비스유형 : REST',\n",
       "   '수정일 : 2017.11.08기관 : 기상청\\n\\n서비스유형 : REST',\n",
       "   '수정일 : 2018.03.29기관 : 해양수산부\\n\\n서비스유형 : REST'],\n",
       "  ['수정일 : 2016.06.29기관 : 과학기술정보통신부 우정사업본부\\n\\n서비스유형 : REST',\n",
       "   '수정일 : 2018.01.25기관 : 기상청\\n\\n서비스유형 : REST',\n",
       "   '수정일 : 2017.10.17기관 : 소상공인시장진흥공단\\n\\n서비스유형 : REST',\n",
       "   '수정일 : 2017.09.28기관 : 한국관광공사\\n\\n서비스유형 : REST',\n",
       "   '수정일 : 2018.01.08기관 : 서울교통공사\\n\\n서비스유형 : LINK',\n",
       "   '수정일 : 2017.10.31기관 : 과학기술정보통신부 우정사업본부\\n\\n서비스유형 : REST',\n",
       "   '수정일 : 2018.01.16기관 : 국토교통부\\n\\n서비스유형 : REST',\n",
       "   '수정일 : 2018.01.16기관 : 한국환경공단\\n\\n서비스유형 : REST',\n",
       "   '수정일 : 2017.11.08기관 : 기상청\\n\\n서비스유형 : REST',\n",
       "   '수정일 : 2018.03.29기관 : 해양수산부\\n\\n서비스유형 : REST']],\n",
       " [['교통물류',\n",
       "   '과학기술',\n",
       "   '중점데이터',\n",
       "   '문화관광',\n",
       "   '교통물류',\n",
       "   '교통물류',\n",
       "   '교통물류',\n",
       "   '환경기상',\n",
       "   '중점데이터',\n",
       "   '중점데이터'],\n",
       "  ['교통물류',\n",
       "   '과학기술',\n",
       "   '중점데이터',\n",
       "   '문화관광',\n",
       "   '교통물류',\n",
       "   '교통물류',\n",
       "   '교통물류',\n",
       "   '환경기상',\n",
       "   '중점데이터',\n",
       "   '중점데이터']]]"
      ]
     },
     "execution_count": 4,
     "metadata": {},
     "output_type": "execute_result"
    }
   ],
   "source": [
    "test = web_spider_out(3)\n",
    "test"
   ]
  },
  {
   "cell_type": "code",
   "execution_count": 16,
   "metadata": {},
   "outputs": [
    {
     "name": "stdout",
     "output_type": "stream",
     "text": [
      "도로명주소조회서비스조회수:29,883활용신청건수:2,378교통물류\n",
      "동네예보정보조회서비스조회수:17,862활용신청건수:7,657과학기술\n",
      "상가(상권)정보조회수:8,828활용신청건수:721중점데이터\n",
      "국내관광정보서비스조회수:7,487활용신청건수:9,132문화관광\n",
      "승하차인원통계조회수:6,786바로가기횟수:1,886교통물류\n",
      "지번주소조회서비스조회수:6,484활용신청건수:895교통물류\n",
      "국토교통부_버스위치정보조회수:5,278활용신청건수:2,613교통물류\n",
      "한국환경공단_대기오염정보조회서비스조회수:5,126활용신청건수:7,137환경기상\n",
      "중기예보정보조회서비스조회수:4,353활용신청건수:1,062중점데이터\n",
      "수산물수출입정보조회수:4,349활용신청건수:143중점데이터\n"
     ]
    }
   ],
   "source": [
    "for i in test[0][1]:\n",
    "    print(i.replace(' ','').replace('\\n',''))"
   ]
  }
 ],
 "metadata": {
  "kernelspec": {
   "display_name": "Python 3",
   "language": "python",
   "name": "python3"
  },
  "language_info": {
   "codemirror_mode": {
    "name": "ipython",
    "version": 3
   },
   "file_extension": ".py",
   "mimetype": "text/x-python",
   "name": "python",
   "nbconvert_exporter": "python",
   "pygments_lexer": "ipython3",
   "version": "3.6.2"
  }
 },
 "nbformat": 4,
 "nbformat_minor": 2
}
